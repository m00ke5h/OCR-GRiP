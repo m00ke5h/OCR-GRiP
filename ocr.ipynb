{
 "cells": [
  {
   "cell_type": "code",
   "execution_count": 2,
   "source": [
    "import cv2\n",
    "from PIL import Image\n",
    "import numpy as np\n",
    "import pytesseract"
   ],
   "outputs": [],
   "metadata": {}
  },
  {
   "cell_type": "markdown",
   "source": [
    "# OCR for simple images\n",
    "\n",
    "![](images/sample1.jpeg)"
   ],
   "metadata": {}
  },
  {
   "cell_type": "code",
   "execution_count": 7,
   "source": [
    "filepath1 = 'images/sample1.jpeg'\n",
    "sample1 = np.array(Image.open(filepath1))\n",
    "result1 = pytesseract.image_to_string(sample1)"
   ],
   "outputs": [],
   "metadata": {}
  },
  {
   "cell_type": "code",
   "execution_count": 8,
   "source": [
    "print(result1)"
   ],
   "outputs": [
    {
     "output_type": "stream",
     "name": "stdout",
     "text": [
      "Tesseract sample\n",
      "\f\n"
     ]
    }
   ],
   "metadata": {}
  },
  {
   "cell_type": "markdown",
   "source": [
    "# OCR for images with some noise\n",
    "\n",
    "![](images/sample2.png)"
   ],
   "metadata": {}
  },
  {
   "cell_type": "code",
   "execution_count": 16,
   "source": [
    "# Image processing\n",
    "\n",
    "filepath2 = 'images/sample2.png'\n",
    "img2 = np.array(Image.open(filepath2))\n",
    "processed_img2 = np.zeros((img2.shape[0], img2.shape[1]))\n",
    "img2 = cv2.normalize(img2, processed_img2, 0, 255, cv2.NORM_MINMAX)\n",
    "img2 = cv2.threshold(img2, 100, 255, cv2.THRESH_BINARY)[1]\n",
    "final_img2 = cv2.GaussianBlur(img2, (1, 1), 0)\n",
    "print(final_img2)"
   ],
   "outputs": [
    {
     "output_type": "stream",
     "name": "stdout",
     "text": [
      "[[[255 255 255]\n",
      "  [255 255 255]\n",
      "  [255 255 255]\n",
      "  ...\n",
      "  [255 255 255]\n",
      "  [255 255 255]\n",
      "  [255 255 255]]\n",
      "\n",
      " [[255 255 255]\n",
      "  [255 255 255]\n",
      "  [255 255 255]\n",
      "  ...\n",
      "  [255 255 255]\n",
      "  [255 255 255]\n",
      "  [255 255 255]]\n",
      "\n",
      " [[255 255 255]\n",
      "  [255 255 255]\n",
      "  [255 255 255]\n",
      "  ...\n",
      "  [255 255 255]\n",
      "  [255 255 255]\n",
      "  [255 255 255]]\n",
      "\n",
      " ...\n",
      "\n",
      " [[255 255 255]\n",
      "  [255 255 255]\n",
      "  [255 255 255]\n",
      "  ...\n",
      "  [255 255 255]\n",
      "  [255 255 255]\n",
      "  [255 255 255]]\n",
      "\n",
      " [[255 255 255]\n",
      "  [255 255 255]\n",
      "  [255 255 255]\n",
      "  ...\n",
      "  [255 255 255]\n",
      "  [255 255 255]\n",
      "  [255 255 255]]\n",
      "\n",
      " [[255 255 255]\n",
      "  [255 255 255]\n",
      "  [255 255 255]\n",
      "  ...\n",
      "  [255 255 255]\n",
      "  [255 255 255]\n",
      "  [255 255 255]]]\n"
     ]
    }
   ],
   "metadata": {}
  },
  {
   "cell_type": "code",
   "execution_count": 17,
   "source": [
    "data = Image.fromarray(final_img2)\n",
    "data.save('images/sample_final2.png')"
   ],
   "outputs": [],
   "metadata": {}
  },
  {
   "cell_type": "markdown",
   "source": [
    "![](images/sample_final2.png)"
   ],
   "metadata": {}
  },
  {
   "cell_type": "code",
   "execution_count": 20,
   "source": [
    "result2 = pytesseract.image_to_string('images/sample_final2.png')\n",
    "print(result2)"
   ],
   "outputs": [
    {
     "output_type": "stream",
     "name": "stdout",
     "text": [
      "Tesseract sample\n",
      "\f\n"
     ]
    }
   ],
   "metadata": {}
  },
  {
   "cell_type": "code",
   "execution_count": 21,
   "source": [
    "filepath3 = 'images/bill_sample.png'\n",
    "sample3 = np.array(Image.open(filepath3))\n",
    "result3 = pytesseract.image_to_string(sample3)"
   ],
   "outputs": [],
   "metadata": {}
  },
  {
   "cell_type": "code",
   "execution_count": 23,
   "source": [
    "print(result3)"
   ],
   "outputs": [
    {
     "output_type": "stream",
     "name": "stdout",
     "text": [
      " \n",
      "\n",
      "John Smith INVOICE\n",
      "\n",
      "123 10th Ave\n",
      "Fake City, SK, T2ZABC\n",
      "Fake Country\n",
      "\n",
      "To Invoice# INV-0025\n",
      "\n",
      "isa re Suite 001 Invoice Date Nov 04, 2018\n",
      "st St. Suite\n",
      "\n",
      "Fake Country Due Date Nov 10, 2018\n",
      "\n",
      "12345 AZ\n",
      "\n",
      "Software Development $100.00 $16700.00\n",
      "\n",
      "Total (USD) $17120.00\n",
      "\n",
      " \n",
      "\n",
      "Payment information:\n",
      "Account Holder: John Smith\n",
      "Account Number: 1234567\n",
      "Transit number: 0909\n",
      "Branch number: 9898\n",
      "\f\n"
     ]
    }
   ],
   "metadata": {}
  },
  {
   "cell_type": "code",
   "execution_count": null,
   "source": [],
   "outputs": [],
   "metadata": {}
  }
 ],
 "metadata": {
  "orig_nbformat": 4,
  "language_info": {
   "name": "python",
   "version": "3.8.10",
   "mimetype": "text/x-python",
   "codemirror_mode": {
    "name": "ipython",
    "version": 3
   },
   "pygments_lexer": "ipython3",
   "nbconvert_exporter": "python",
   "file_extension": ".py"
  },
  "kernelspec": {
   "name": "python3",
   "display_name": "Python 3.8.10 64-bit ('venv': venv)"
  },
  "interpreter": {
   "hash": "d6e8535a91a3dc9767f281099dd5ff9ea18b3a962410f3302dcdc897bedd1330"
  }
 },
 "nbformat": 4,
 "nbformat_minor": 2
}